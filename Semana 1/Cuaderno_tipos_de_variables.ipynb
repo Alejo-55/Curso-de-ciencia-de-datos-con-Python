{
 "cells": [
  {
   "cell_type": "markdown",
   "id": "70fa2cc4-01da-4e85-8845-ba6729b69621",
   "metadata": {},
   "source": [
    "# Variables"
   ]
  },
  {
   "cell_type": "code",
   "execution_count": 1,
   "id": "fd96410f-6f64-4193-8a32-99be5e9e1b2d",
   "metadata": {},
   "outputs": [],
   "source": [
    "x = 12"
   ]
  },
  {
   "cell_type": "code",
   "execution_count": 2,
   "id": "e710ce78-b5fb-4512-bee7-eaec85726e24",
   "metadata": {},
   "outputs": [
    {
     "name": "stdout",
     "output_type": "stream",
     "text": [
      "<class 'int'>\n"
     ]
    }
   ],
   "source": [
    "print(type(x))"
   ]
  },
  {
   "cell_type": "markdown",
   "id": "eb3b02ce-4dd5-4956-bc3d-046a52ac7ea8",
   "metadata": {},
   "source": [
    "# Tipos de variables"
   ]
  },
  {
   "cell_type": "markdown",
   "id": "dc1d2e70-d1d6-4930-bfca-9b02884cd4b6",
   "metadata": {},
   "source": [
    "### Variable tipo flotante"
   ]
  },
  {
   "cell_type": "code",
   "execution_count": 3,
   "id": "50f17b41-e183-436e-bc42-cba86f9dd995",
   "metadata": {},
   "outputs": [],
   "source": [
    "f = 4.5566"
   ]
  },
  {
   "cell_type": "code",
   "execution_count": 5,
   "id": "7fb92baf-4ce3-440e-b1f4-036d22c74f2c",
   "metadata": {},
   "outputs": [
    {
     "name": "stdout",
     "output_type": "stream",
     "text": [
      "float: 4.5566\n"
     ]
    }
   ],
   "source": [
    "print(\"float:\", f)"
   ]
  },
  {
   "cell_type": "code",
   "execution_count": 6,
   "id": "1ecf663e-b929-4771-b5ac-0cbe92620bd6",
   "metadata": {},
   "outputs": [],
   "source": [
    "f = 24.2e4"
   ]
  },
  {
   "cell_type": "code",
   "execution_count": 7,
   "id": "d8183507-0b3d-4617-ab3a-35ea29faf0a9",
   "metadata": {},
   "outputs": [
    {
     "name": "stdout",
     "output_type": "stream",
     "text": [
      "<class 'float'>\n",
      "float con notación científica 242000.0\n"
     ]
    }
   ],
   "source": [
    "print(type(f))\n",
    "print(\"float con notación científica\", f)"
   ]
  },
  {
   "cell_type": "markdown",
   "id": "8bea2bb3-4b15-49a4-a82f-4760ead1238d",
   "metadata": {},
   "source": [
    "### Números imaginarios"
   ]
  },
  {
   "cell_type": "code",
   "execution_count": 13,
   "id": "a1ff474c-f5f4-4c2e-ae37-07969d7ef262",
   "metadata": {},
   "outputs": [
    {
     "name": "stdout",
     "output_type": "stream",
     "text": [
      "<class 'complex'>\n",
      "complex: (25+4j)\n"
     ]
    }
   ],
   "source": [
    "f = 25+4j\n",
    "print(type(f))\n",
    "print(\"complex:\", f)"
   ]
  },
  {
   "cell_type": "markdown",
   "id": "51a9a5c6-7e8a-4ed4-a319-69eeeeb81523",
   "metadata": {},
   "source": [
    "### Cadenas de texto"
   ]
  },
  {
   "cell_type": "code",
   "execution_count": 14,
   "id": "a6982f92-961e-4088-b383-a473591cb2ba",
   "metadata": {},
   "outputs": [
    {
     "name": "stdout",
     "output_type": "stream",
     "text": [
      "<class 'str'>\n",
      "El texto es: Hola mundo!\n"
     ]
    }
   ],
   "source": [
    "s = \"Hola mundo!\"\n",
    "print(type(s))\n",
    "print(\"El texto es:\", s)"
   ]
  },
  {
   "cell_type": "markdown",
   "id": "a6054ce3-7133-42f5-9414-7864c6890366",
   "metadata": {},
   "source": [
    "### Boleanos"
   ]
  },
  {
   "cell_type": "code",
   "execution_count": 15,
   "id": "9268c718-efde-42ca-b6d7-b750d8b08990",
   "metadata": {},
   "outputs": [
    {
     "name": "stdout",
     "output_type": "stream",
     "text": [
      "<class 'bool'>\n",
      "El valor boleano es: True\n"
     ]
    }
   ],
   "source": [
    "d = True\n",
    "print(type(d))\n",
    "print(\"El valor boleano es:\", d)"
   ]
  },
  {
   "cell_type": "markdown",
   "id": "73068743-4bdc-4535-8218-f397ee69eb54",
   "metadata": {},
   "source": [
    "### Retos"
   ]
  },
  {
   "cell_type": "markdown",
   "id": "375417a7-5882-49a5-a922-4f121cccd871",
   "metadata": {},
   "source": [
    "Determina el tipo de variable de los siguientes elementos e imprimelos en pantalla, si alguno no es posible indica por que:\n",
    "* 12\n",
    "* 12.2\n",
    "* hola\n",
    "* \"mundo\"\n",
    "* b\n",
    "* 12 + 12+1\n",
    "* 12 + 12+1j\n",
    "* True\n",
    "* false"
   ]
  },
  {
   "cell_type": "code",
   "execution_count": 18,
   "id": "1dc51131-a004-48db-ae63-012011cbff44",
   "metadata": {},
   "outputs": [
    {
     "name": "stdout",
     "output_type": "stream",
     "text": [
      "<class 'int'>\n",
      "<class 'float'>\n"
     ]
    },
    {
     "ename": "NameError",
     "evalue": "name 'hola' is not defined",
     "output_type": "error",
     "traceback": [
      "\u001b[1;31m---------------------------------------------------------------------------\u001b[0m",
      "\u001b[1;31mNameError\u001b[0m                                 Traceback (most recent call last)",
      "Cell \u001b[1;32mIn[18], line 3\u001b[0m\n\u001b[0;32m      1\u001b[0m \u001b[38;5;28mprint\u001b[39m(\u001b[38;5;28mtype\u001b[39m(\u001b[38;5;241m12\u001b[39m))\n\u001b[0;32m      2\u001b[0m \u001b[38;5;28mprint\u001b[39m(\u001b[38;5;28mtype\u001b[39m(\u001b[38;5;241m12.2\u001b[39m))\n\u001b[1;32m----> 3\u001b[0m \u001b[38;5;28mprint\u001b[39m(\u001b[38;5;28mtype\u001b[39m(hola))\n\u001b[0;32m      4\u001b[0m \u001b[38;5;28mprint\u001b[39m(\u001b[38;5;28mtype\u001b[39m(\u001b[38;5;124m\"\u001b[39m\u001b[38;5;124mmundo\u001b[39m\u001b[38;5;124m\"\u001b[39m))\n\u001b[0;32m      5\u001b[0m \u001b[38;5;28mprint\u001b[39m(\u001b[38;5;28mtype\u001b[39m(b))\n",
      "\u001b[1;31mNameError\u001b[0m: name 'hola' is not defined"
     ]
    }
   ],
   "source": [
    "print(type(12))\n",
    "print(type(12.2))\n",
    "print(type(hola))\n",
    "print(type(\"mundo\"))\n",
    "print(type(b))\n",
    "print(type(12 + 12 + 1))\n",
    "print(type(12 + 12 + 1j))\n",
    "print(type(True))\n",
    "print(type(False))\n",
    "\n",
    "## El hola no aparece definido debido a que no se le asigno un objeto"
   ]
  }
 ],
 "metadata": {
  "kernelspec": {
   "display_name": "Python [conda env:base] *",
   "language": "python",
   "name": "conda-base-py"
  },
  "language_info": {
   "codemirror_mode": {
    "name": "ipython",
    "version": 3
   },
   "file_extension": ".py",
   "mimetype": "text/x-python",
   "name": "python",
   "nbconvert_exporter": "python",
   "pygments_lexer": "ipython3",
   "version": "3.13.5"
  }
 },
 "nbformat": 4,
 "nbformat_minor": 5
}
