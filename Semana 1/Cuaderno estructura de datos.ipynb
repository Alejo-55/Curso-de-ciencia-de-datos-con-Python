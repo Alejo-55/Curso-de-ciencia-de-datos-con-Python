{
 "cells": [
  {
   "cell_type": "markdown",
   "id": "9abcced5-911b-4f13-9a15-b2f812736d28",
   "metadata": {},
   "source": [
    "# Tuplas"
   ]
  },
  {
   "cell_type": "markdown",
   "id": "76421548-eddc-407f-b57c-6da733d6267b",
   "metadata": {},
   "source": [
    "Dice que las tuplas son estructuras de datos similares a listas."
   ]
  },
  {
   "cell_type": "code",
   "execution_count": 6,
   "id": "fe690bbc-8432-41c8-93b7-2c177023ca81",
   "metadata": {},
   "outputs": [
    {
     "data": {
      "text/plain": [
       "list"
      ]
     },
     "execution_count": 6,
     "metadata": {},
     "output_type": "execute_result"
    }
   ],
   "source": [
    "l = [1,2,\"tres\", True]\n",
    "type(l)"
   ]
  },
  {
   "cell_type": "code",
   "execution_count": 3,
   "id": "8744eef5-f05a-4add-96d1-3d229e097cfe",
   "metadata": {},
   "outputs": [
    {
     "name": "stdout",
     "output_type": "stream",
     "text": [
      "(1, 2, 'tres', True)\n"
     ]
    },
    {
     "data": {
      "text/plain": [
       "tuple"
      ]
     },
     "execution_count": 3,
     "metadata": {},
     "output_type": "execute_result"
    }
   ],
   "source": [
    "tupla = (1,2, \"tres\", True)\n",
    "print(tupla)\n",
    "type(tupla)"
   ]
  },
  {
   "cell_type": "markdown",
   "id": "4b2c89e6-c046-4ea5-b22b-5b741faea193",
   "metadata": {},
   "source": [
    "El cosntructir de la tupla es la coma. Los paéntesis se usan por claridad."
   ]
  },
  {
   "cell_type": "code",
   "execution_count": 4,
   "id": "c49eab2e-adae-4971-ba72-a083626c5ad5",
   "metadata": {},
   "outputs": [
    {
     "name": "stdout",
     "output_type": "stream",
     "text": [
      "(1, 2, 'tres', True)\n"
     ]
    },
    {
     "data": {
      "text/plain": [
       "tuple"
      ]
     },
     "execution_count": 4,
     "metadata": {},
     "output_type": "execute_result"
    }
   ],
   "source": [
    "tupla_sin_paréntesis = 1,2,\"tres\", True\n",
    "print(tupla_sin_paréntesis)\n",
    "type(tupla_sin_paréntesis)"
   ]
  },
  {
   "cell_type": "markdown",
   "id": "acb63800-ffb2-4477-ae6b-1ba7263564f1",
   "metadata": {},
   "source": [
    "Las tuplas son inmutables. Nose pueden modificar una vez creadas"
   ]
  },
  {
   "cell_type": "code",
   "execution_count": 5,
   "id": "baf0b917-44c4-4f6a-91f0-a89b95c1587a",
   "metadata": {},
   "outputs": [
    {
     "ename": "TypeError",
     "evalue": "'tuple' object does not support item assignment",
     "output_type": "error",
     "traceback": [
      "\u001b[1;31m---------------------------------------------------------------------------\u001b[0m",
      "\u001b[1;31mTypeError\u001b[0m                                 Traceback (most recent call last)",
      "Cell \u001b[1;32mIn[5], line 1\u001b[0m\n\u001b[1;32m----> 1\u001b[0m tupla[\u001b[38;5;241m0\u001b[39m] \u001b[38;5;241m=\u001b[39m \u001b[38;5;241m1\u001b[39m\n",
      "\u001b[1;31mTypeError\u001b[0m: 'tuple' object does not support item assignment"
     ]
    }
   ],
   "source": [
    "tupla[0] = 1"
   ]
  },
  {
   "cell_type": "code",
   "execution_count": 8,
   "id": "c59eba78-7746-4278-930c-27fc928963ab",
   "metadata": {},
   "outputs": [
    {
     "ename": "AttributeError",
     "evalue": "'tuple' object has no attribute 'append'",
     "output_type": "error",
     "traceback": [
      "\u001b[1;31m---------------------------------------------------------------------------\u001b[0m",
      "\u001b[1;31mAttributeError\u001b[0m                            Traceback (most recent call last)",
      "Cell \u001b[1;32mIn[8], line 1\u001b[0m\n\u001b[1;32m----> 1\u001b[0m tupla\u001b[38;5;241m.\u001b[39mappend(\u001b[38;5;241m1\u001b[39m)\n",
      "\u001b[1;31mAttributeError\u001b[0m: 'tuple' object has no attribute 'append'"
     ]
    }
   ],
   "source": [
    "tupla.append(1)"
   ]
  },
  {
   "cell_type": "code",
   "execution_count": 9,
   "id": "4bf2921c-c92e-4b50-b0f8-bcb42854a6b2",
   "metadata": {},
   "outputs": [
    {
     "data": {
      "text/plain": [
       "(0.0, 0.1)"
      ]
     },
     "execution_count": 9,
     "metadata": {},
     "output_type": "execute_result"
    }
   ],
   "source": [
    "def get_coords():\n",
    "    lat = 0.0\n",
    "    lon = 0.1\n",
    "    return lat, lon\n",
    "get_coords()"
   ]
  },
  {
   "cell_type": "markdown",
   "id": "a39772e4-e45a-4cc2-803d-c8bea4ff0896",
   "metadata": {},
   "source": [
    "# Diccionarios\n",
    "\n",
    "Los diccionarios relacionan una llave con un valor"
   ]
  },
  {
   "cell_type": "code",
   "execution_count": 11,
   "id": "809c1466-d985-4951-bf74-07bc12a752f6",
   "metadata": {},
   "outputs": [],
   "source": [
    "d = {\"Aguascalientes\" : \"Aguascalientes\",\n",
    "\"Baja California\" : \"Mexicali\",\n",
    "\"Baja California Sur\" : \"La Paz\",\n",
    "\"Campeche\" : \"San Francisco de Campeche\",\n",
    "\"Chihuahua\" : \"Chihuahua\",\n",
    "\"Chiapas\" : \"Tuxtla Gutiérrez\",\n",
    "\"Coahuila\" : \"Saltillo\",\n",
    "\"Colima\" : \"Colima\",\n",
    "\"Durango\" : \"Victoria de Durango\",\n",
    "\"Guanajuato\" : \"Guanajuato\",\n",
    "\"Guerrero\" : \"Chilpancingo de los Bravo\",\n",
    "\"Hidalgo\" : \"Pachuca de Soto\",\n",
    "\"Jalisco\" : \"Guadalajara\",\n",
    "\"México\" : \"Toluca de Lerdo\",\n",
    "\"Michoacán\" : \"Morelia\",\n",
    "\"Morelos\" : \"Cuernavaca\",\n",
    "\"Nayarit\" : \"Tepic\",\n",
    "\"Nuevo León\" : \"Monterrey\",\n",
    "\"Oaxaca\" : \"Oaxaca de Juárez\",\n",
    "\"Puebla\" : \"Puebla de Zaragoza\",\n",
    "\"Querétaro\" : \"Santiago de Querétaro\",\n",
    "\"Quintana Roo\" : \"Chetumal\",\n",
    "\"San Luis Potosí\" : \"San Luis Potosí\",\n",
    "\"Sinaloa\" : \"Culiacán Rosales\",\n",
    "\"Sonora\" : \"Hermosillo\",\n",
    "\"Tabasco\" : \"Villahermosa\",\n",
    "\"Tamaulipas\" : \"Ciudad Victoria\",\n",
    "\"Tlaxcala\" : \"Tlaxcala de Xicohténcatl\",\n",
    "\"Veracruz\" : \"Xalapa-Enríquez\",\n",
    "\"Yucatán\" : \"Mérida\",\n",
    "\"Zacatecas\" : \"Zacatecas\"}"
   ]
  },
  {
   "cell_type": "code",
   "execution_count": 12,
   "id": "48e0a7d9-7732-4d95-80cb-f28eebe3860f",
   "metadata": {},
   "outputs": [
    {
     "data": {
      "text/plain": [
       "'Ciudad Victoria'"
      ]
     },
     "execution_count": 12,
     "metadata": {},
     "output_type": "execute_result"
    }
   ],
   "source": [
    "d[\"Tamaulipas\"]"
   ]
  },
  {
   "cell_type": "markdown",
   "id": "c70734d4-9ffe-4a7d-9aa6-409ccdcfc822",
   "metadata": {},
   "source": [
    "Los diccionarios son colecciones de objetos sin orden definidos"
   ]
  },
  {
   "cell_type": "code",
   "execution_count": 14,
   "id": "5dcbfae0-c1b1-4967-baec-a9a29869ccd1",
   "metadata": {},
   "outputs": [
    {
     "ename": "KeyError",
     "evalue": "0",
     "output_type": "error",
     "traceback": [
      "\u001b[1;31m---------------------------------------------------------------------------\u001b[0m",
      "\u001b[1;31mKeyError\u001b[0m                                  Traceback (most recent call last)",
      "Cell \u001b[1;32mIn[14], line 1\u001b[0m\n\u001b[1;32m----> 1\u001b[0m d[\u001b[38;5;241m0\u001b[39m]\n",
      "\u001b[1;31mKeyError\u001b[0m: 0"
     ]
    }
   ],
   "source": [
    "d[0]"
   ]
  },
  {
   "cell_type": "code",
   "execution_count": 16,
   "id": "725daad1-bd8c-48f0-b40b-4ffb403572f3",
   "metadata": {},
   "outputs": [
    {
     "data": {
      "text/plain": [
       "'Austin'"
      ]
     },
     "execution_count": 16,
     "metadata": {},
     "output_type": "execute_result"
    }
   ],
   "source": [
    "d[\"Texas\"] = \"Austin\"\n",
    "d[\"Texas\"]"
   ]
  },
  {
   "cell_type": "code",
   "execution_count": 17,
   "id": "103d6ffc-33ed-41b2-93a7-17d9ca78155d",
   "metadata": {},
   "outputs": [
    {
     "data": {
      "text/plain": [
       "{'Aguascalientes': 'Aguascalientes',\n",
       " 'Baja California': 'Mexicali',\n",
       " 'Baja California Sur': 'La Paz',\n",
       " 'Campeche': 'San Francisco de Campeche',\n",
       " 'Chihuahua': 'Chihuahua',\n",
       " 'Chiapas': 'Tuxtla Gutiérrez',\n",
       " 'Coahuila': 'Saltillo',\n",
       " 'Colima': 'Colima',\n",
       " 'Durango': 'Victoria de Durango',\n",
       " 'Guanajuato': 'Guanajuato',\n",
       " 'Guerrero': 'Chilpancingo de los Bravo',\n",
       " 'Hidalgo': 'Pachuca de Soto',\n",
       " 'Jalisco': 'Guadalajara',\n",
       " 'México': 'Toluca de Lerdo',\n",
       " 'Michoacán': 'Morelia',\n",
       " 'Morelos': 'Cuernavaca',\n",
       " 'Nayarit': 'Tepic',\n",
       " 'Nuevo León': 'Monterrey',\n",
       " 'Oaxaca': 'Oaxaca de Juárez',\n",
       " 'Puebla': 'Puebla de Zaragoza',\n",
       " 'Querétaro': 'Santiago de Querétaro',\n",
       " 'Quintana Roo': 'Chetumal',\n",
       " 'San Luis Potosí': 'San Luis Potosí',\n",
       " 'Sinaloa': 'Culiacán Rosales',\n",
       " 'Sonora': 'Hermosillo',\n",
       " 'Tabasco': 'Villahermosa',\n",
       " 'Tamaulipas': 'Ciudad Victoria',\n",
       " 'Tlaxcala': 'Tlaxcala de Xicohténcatl',\n",
       " 'Veracruz': 'Xalapa-Enríquez',\n",
       " 'Yucatán': 'Mérida',\n",
       " 'Zacatecas': 'Zacatecas',\n",
       " 'Texas': 'Austin'}"
      ]
     },
     "execution_count": 17,
     "metadata": {},
     "output_type": "execute_result"
    }
   ],
   "source": [
    "d"
   ]
  },
  {
   "cell_type": "code",
   "execution_count": 21,
   "id": "cf716c74-6a90-4e22-864c-46803e7d9838",
   "metadata": {},
   "outputs": [
    {
     "ename": "KeyError",
     "evalue": "'Texas'",
     "output_type": "error",
     "traceback": [
      "\u001b[1;31m---------------------------------------------------------------------------\u001b[0m",
      "\u001b[1;31mKeyError\u001b[0m                                  Traceback (most recent call last)",
      "Cell \u001b[1;32mIn[21], line 1\u001b[0m\n\u001b[1;32m----> 1\u001b[0m \u001b[38;5;28;01mdel\u001b[39;00m(d[\u001b[38;5;124m\"\u001b[39m\u001b[38;5;124mTexas\u001b[39m\u001b[38;5;124m\"\u001b[39m])\n",
      "\u001b[1;31mKeyError\u001b[0m: 'Texas'"
     ]
    }
   ],
   "source": [
    "del(d[\"Texas\"])"
   ]
  },
  {
   "cell_type": "code",
   "execution_count": 22,
   "id": "57f9868b-ebd8-4847-8259-02215e5c3efa",
   "metadata": {},
   "outputs": [
    {
     "data": {
      "text/plain": [
       "{'Aguascalientes': 'Aguascalientes',\n",
       " 'Baja California': 'Mexicali',\n",
       " 'Baja California Sur': 'La Paz',\n",
       " 'Campeche': 'San Francisco de Campeche',\n",
       " 'Chihuahua': 'Chihuahua',\n",
       " 'Chiapas': 'Tuxtla Gutiérrez',\n",
       " 'Coahuila': 'Saltillo',\n",
       " 'Colima': 'Colima',\n",
       " 'Durango': 'Victoria de Durango',\n",
       " 'Guanajuato': 'Guanajuato',\n",
       " 'Guerrero': 'Chilpancingo de los Bravo',\n",
       " 'Hidalgo': 'Pachuca de Soto',\n",
       " 'Jalisco': 'Guadalajara',\n",
       " 'México': 'Toluca de Lerdo',\n",
       " 'Michoacán': 'Morelia',\n",
       " 'Morelos': 'Cuernavaca',\n",
       " 'Nayarit': 'Tepic',\n",
       " 'Nuevo León': 'Monterrey',\n",
       " 'Oaxaca': 'Oaxaca de Juárez',\n",
       " 'Puebla': 'Puebla de Zaragoza',\n",
       " 'Querétaro': 'Santiago de Querétaro',\n",
       " 'Quintana Roo': 'Chetumal',\n",
       " 'San Luis Potosí': 'San Luis Potosí',\n",
       " 'Sinaloa': 'Culiacán Rosales',\n",
       " 'Sonora': 'Hermosillo',\n",
       " 'Tabasco': 'Villahermosa',\n",
       " 'Tamaulipas': 'Ciudad Victoria',\n",
       " 'Tlaxcala': 'Tlaxcala de Xicohténcatl',\n",
       " 'Veracruz': 'Xalapa-Enríquez',\n",
       " 'Yucatán': 'Mérida',\n",
       " 'Zacatecas': 'Zacatecas'}"
      ]
     },
     "execution_count": 22,
     "metadata": {},
     "output_type": "execute_result"
    }
   ],
   "source": [
    "d"
   ]
  },
  {
   "cell_type": "code",
   "execution_count": 23,
   "id": "0b5fe591-67a2-4e14-8534-c6c4364986fa",
   "metadata": {},
   "outputs": [
    {
     "data": {
      "text/plain": [
       "dict_keys(['Aguascalientes', 'Baja California', 'Baja California Sur', 'Campeche', 'Chihuahua', 'Chiapas', 'Coahuila', 'Colima', 'Durango', 'Guanajuato', 'Guerrero', 'Hidalgo', 'Jalisco', 'México', 'Michoacán', 'Morelos', 'Nayarit', 'Nuevo León', 'Oaxaca', 'Puebla', 'Querétaro', 'Quintana Roo', 'San Luis Potosí', 'Sinaloa', 'Sonora', 'Tabasco', 'Tamaulipas', 'Tlaxcala', 'Veracruz', 'Yucatán', 'Zacatecas'])"
      ]
     },
     "execution_count": 23,
     "metadata": {},
     "output_type": "execute_result"
    }
   ],
   "source": [
    "d.keys()"
   ]
  },
  {
   "cell_type": "code",
   "execution_count": 24,
   "id": "a6597aaa-8259-44f4-be6f-1405765547d0",
   "metadata": {},
   "outputs": [
    {
     "data": {
      "text/plain": [
       "dict_values(['Aguascalientes', 'Mexicali', 'La Paz', 'San Francisco de Campeche', 'Chihuahua', 'Tuxtla Gutiérrez', 'Saltillo', 'Colima', 'Victoria de Durango', 'Guanajuato', 'Chilpancingo de los Bravo', 'Pachuca de Soto', 'Guadalajara', 'Toluca de Lerdo', 'Morelia', 'Cuernavaca', 'Tepic', 'Monterrey', 'Oaxaca de Juárez', 'Puebla de Zaragoza', 'Santiago de Querétaro', 'Chetumal', 'San Luis Potosí', 'Culiacán Rosales', 'Hermosillo', 'Villahermosa', 'Ciudad Victoria', 'Tlaxcala de Xicohténcatl', 'Xalapa-Enríquez', 'Mérida', 'Zacatecas'])"
      ]
     },
     "execution_count": 24,
     "metadata": {},
     "output_type": "execute_result"
    }
   ],
   "source": [
    "d.values()"
   ]
  },
  {
   "cell_type": "markdown",
   "id": "a2890d6e-3c51-4e20-90b0-1b3f0b62cb1a",
   "metadata": {},
   "source": [
    "# Listas"
   ]
  },
  {
   "cell_type": "code",
   "execution_count": 25,
   "id": "4b084b52-4770-4230-a54b-d13c12d97459",
   "metadata": {},
   "outputs": [
    {
     "data": {
      "text/plain": [
       "[1, 4, 3, 4, 8, 9, 10]"
      ]
     },
     "execution_count": 25,
     "metadata": {},
     "output_type": "execute_result"
    }
   ],
   "source": [
    "l = [1,4,3,4,8,9]\n",
    "l.append(10)\n",
    "l"
   ]
  },
  {
   "cell_type": "code",
   "execution_count": 26,
   "id": "21206d88-981b-498a-b51a-e0f61e89f2f6",
   "metadata": {},
   "outputs": [
    {
     "data": {
      "text/plain": [
       "2"
      ]
     },
     "execution_count": 26,
     "metadata": {},
     "output_type": "execute_result"
    }
   ],
   "source": [
    "l.count(4)"
   ]
  },
  {
   "cell_type": "code",
   "execution_count": 27,
   "id": "77b1b4f4-024a-481e-ac12-28ad3566a728",
   "metadata": {},
   "outputs": [
    {
     "data": {
      "text/plain": [
       "[1, 4, 3, 4, 8, 9, 10, 3, 4, 6]"
      ]
     },
     "execution_count": 27,
     "metadata": {},
     "output_type": "execute_result"
    }
   ],
   "source": [
    "l.extend([3,4,6])\n",
    "l"
   ]
  },
  {
   "cell_type": "code",
   "execution_count": 28,
   "id": "602ab260-401d-4e02-b780-5ab0329d0828",
   "metadata": {},
   "outputs": [
    {
     "data": {
      "text/plain": [
       "[1, 5, 4, 3, 4, 8, 9, 10, 3, 4, 6]"
      ]
     },
     "execution_count": 28,
     "metadata": {},
     "output_type": "execute_result"
    }
   ],
   "source": [
    "l.insert(1,5)\n",
    "l"
   ]
  },
  {
   "cell_type": "code",
   "execution_count": 29,
   "id": "30e45616-7c01-4cf8-b3d9-dcf645aaab7c",
   "metadata": {},
   "outputs": [
    {
     "name": "stdout",
     "output_type": "stream",
     "text": [
      "6\n"
     ]
    },
    {
     "data": {
      "text/plain": [
       "[1, 5, 4, 3, 4, 8, 9, 10, 3, 4]"
      ]
     },
     "execution_count": 29,
     "metadata": {},
     "output_type": "execute_result"
    }
   ],
   "source": [
    "print(l.pop())\n",
    "l"
   ]
  },
  {
   "cell_type": "code",
   "execution_count": 30,
   "id": "3ca8b154-ec18-4a2c-acab-241d71ec9cb7",
   "metadata": {},
   "outputs": [
    {
     "data": {
      "text/plain": [
       "[1, 5, 4, 3, 4, 8, 10, 3, 4]"
      ]
     },
     "execution_count": 30,
     "metadata": {},
     "output_type": "execute_result"
    }
   ],
   "source": [
    "l.remove(9)\n",
    "l"
   ]
  },
  {
   "cell_type": "code",
   "execution_count": 31,
   "id": "fadb5416-8134-44ce-ab07-b1feaf458dcc",
   "metadata": {},
   "outputs": [
    {
     "data": {
      "text/plain": [
       "[4, 3, 10, 8, 4, 3, 4, 5, 1]"
      ]
     },
     "execution_count": 31,
     "metadata": {},
     "output_type": "execute_result"
    }
   ],
   "source": [
    "l.reverse()\n",
    "l"
   ]
  },
  {
   "cell_type": "code",
   "execution_count": 32,
   "id": "8742321b-5a14-470e-8933-96db7bf3ab64",
   "metadata": {},
   "outputs": [
    {
     "data": {
      "text/plain": [
       "[1, 3, 3, 4, 4, 4, 5, 8, 10]"
      ]
     },
     "execution_count": 32,
     "metadata": {},
     "output_type": "execute_result"
    }
   ],
   "source": [
    "l.sort()\n",
    "l"
   ]
  },
  {
   "cell_type": "code",
   "execution_count": 33,
   "id": "ba2957d0-e9c3-4fa3-8b66-f2312571b838",
   "metadata": {},
   "outputs": [
    {
     "data": {
      "text/plain": [
       "[10, 8, 5, 4, 4, 4, 3, 3, 1]"
      ]
     },
     "execution_count": 33,
     "metadata": {},
     "output_type": "execute_result"
    }
   ],
   "source": [
    "l.sort(reverse = True)\n",
    "l"
   ]
  }
 ],
 "metadata": {
  "kernelspec": {
   "display_name": "Python [conda env:base] *",
   "language": "python",
   "name": "conda-base-py"
  },
  "language_info": {
   "codemirror_mode": {
    "name": "ipython",
    "version": 3
   },
   "file_extension": ".py",
   "mimetype": "text/x-python",
   "name": "python",
   "nbconvert_exporter": "python",
   "pygments_lexer": "ipython3",
   "version": "3.13.5"
  }
 },
 "nbformat": 4,
 "nbformat_minor": 5
}
