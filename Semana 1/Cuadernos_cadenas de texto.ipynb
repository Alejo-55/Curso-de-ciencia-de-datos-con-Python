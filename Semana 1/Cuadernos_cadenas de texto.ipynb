{
 "cells": [
  {
   "cell_type": "markdown",
   "id": "77dfa289-d282-404b-9a3f-87fd6c56fc18",
   "metadata": {},
   "source": [
    "# Print()"
   ]
  },
  {
   "cell_type": "code",
   "execution_count": 1,
   "id": "59f9e637-cab5-4819-8332-6ef897ae4267",
   "metadata": {},
   "outputs": [
    {
     "name": "stdout",
     "output_type": "stream",
     "text": [
      "3\n"
     ]
    }
   ],
   "source": [
    "print(3)"
   ]
  },
  {
   "cell_type": "code",
   "execution_count": 2,
   "id": "29f086bd-d8d2-4c25-9378-2f0516f50c9b",
   "metadata": {},
   "outputs": [
    {
     "name": "stdout",
     "output_type": "stream",
     "text": [
      "4.5564466\n"
     ]
    }
   ],
   "source": [
    "print(4.5564466)"
   ]
  },
  {
   "cell_type": "code",
   "execution_count": 4,
   "id": "4dca6b7d-881b-47e3-9491-cfa78e04d610",
   "metadata": {},
   "outputs": [
    {
     "name": "stdout",
     "output_type": "stream",
     "text": [
      "3-cuatro-5\n"
     ]
    }
   ],
   "source": [
    "print(3, \"cuatro\", 5, sep = \"-\")"
   ]
  },
  {
   "cell_type": "markdown",
   "id": "f33886af-d3f4-490d-94c3-4bdde597c066",
   "metadata": {},
   "source": [
    "# Cadenas de texto"
   ]
  },
  {
   "cell_type": "code",
   "execution_count": 5,
   "id": "47b0b73e-410f-475c-927d-7567a77d11a8",
   "metadata": {},
   "outputs": [
    {
     "name": "stdout",
     "output_type": "stream",
     "text": [
      "Hola Mundo!\n"
     ]
    }
   ],
   "source": [
    "msj = \"Hola Mundo!\"\n",
    "print(msj)"
   ]
  },
  {
   "cell_type": "code",
   "execution_count": 7,
   "id": "cb1f81d2-89c6-4b3a-9add-1fb98837fcdd",
   "metadata": {},
   "outputs": [
    {
     "name": "stdout",
     "output_type": "stream",
     "text": [
      "<class 'str'>\n"
     ]
    }
   ],
   "source": [
    "## Imprimir el tipo de la variable\n",
    "\n",
    "print(type(msj))"
   ]
  },
  {
   "cell_type": "code",
   "execution_count": 8,
   "id": "ca8341d1-da18-4a7e-a034-6adaf6812f90",
   "metadata": {},
   "outputs": [
    {
     "name": "stdout",
     "output_type": "stream",
     "text": [
      "H\n",
      "o\n"
     ]
    }
   ],
   "source": [
    "print(msj[0])\n",
    "print(msj[1])"
   ]
  },
  {
   "cell_type": "code",
   "execution_count": 9,
   "id": "a897d46c-c3c6-47ac-84d7-569ae48ecdfc",
   "metadata": {},
   "outputs": [
    {
     "name": "stdout",
     "output_type": "stream",
     "text": [
      "!\n",
      "o\n"
     ]
    }
   ],
   "source": [
    "print(msj[-1])\n",
    "print(msj[-2])"
   ]
  },
  {
   "cell_type": "code",
   "execution_count": 11,
   "id": "7622ee3c-51b2-4d73-886d-0e8c207d4a48",
   "metadata": {},
   "outputs": [
    {
     "name": "stdout",
     "output_type": "stream",
     "text": [
      "ola Mun\n",
      "u\n"
     ]
    }
   ],
   "source": [
    "print(msj[1:8])\n",
    "print(msj[6:10:12])"
   ]
  },
  {
   "cell_type": "markdown",
   "id": "f57d7949-4c09-43eb-977b-d31607ff5671",
   "metadata": {},
   "source": [
    "# Listas"
   ]
  },
  {
   "cell_type": "code",
   "execution_count": 13,
   "id": "6cdd7068-9899-4902-9a71-a0d239d46494",
   "metadata": {},
   "outputs": [
    {
     "name": "stdout",
     "output_type": "stream",
     "text": [
      "[1, 'No', [1, 6], 5, False]\n"
     ]
    }
   ],
   "source": [
    "lista_1 = [1, \"No\", [1,6], 5, False]\n",
    "print(lista_1)"
   ]
  },
  {
   "cell_type": "code",
   "execution_count": 14,
   "id": "ad4741f4-a269-4c69-b2f0-d614067ac62a",
   "metadata": {},
   "outputs": [
    {
     "name": "stdout",
     "output_type": "stream",
     "text": [
      "Adios\n"
     ]
    }
   ],
   "source": [
    "lista_2 = \"Adios\"\n",
    "print(lista_2)"
   ]
  },
  {
   "cell_type": "code",
   "execution_count": 16,
   "id": "88a6f358-e4f3-4a36-9b89-97ada8763bbc",
   "metadata": {},
   "outputs": [
    {
     "name": "stdout",
     "output_type": "stream",
     "text": [
      "último elemneto de la lista_1 es: False\n",
      "penúltimo elemneto de la lista_1 es: 5\n"
     ]
    }
   ],
   "source": [
    "print(\"último elemneto de la lista_1 es:\", lista_1[-1])\n",
    "print(\"penúltimo elemneto de la lista_1 es:\", lista_1[-2])"
   ]
  },
  {
   "cell_type": "code",
   "execution_count": 19,
   "id": "8f8fd789-2bd1-4829-bd0e-a2c7f393ee52",
   "metadata": {},
   "outputs": [
    {
     "name": "stdout",
     "output_type": "stream",
     "text": [
      "['No', [1, 6], 5]\n",
      "[1]\n",
      "[1, 5]\n"
     ]
    }
   ],
   "source": [
    "print(lista_1[1:4])\n",
    "print(lista_1[0:3:6])\n",
    "print(lista_1[::3])"
   ]
  },
  {
   "cell_type": "code",
   "execution_count": 20,
   "id": "6ca166b1-9d15-4087-a662-c57347d521b1",
   "metadata": {},
   "outputs": [
    {
     "name": "stdout",
     "output_type": "stream",
     "text": [
      "[1, 2, 3, 4, 5, 6]\n"
     ]
    }
   ],
   "source": [
    "lista_números = [1,2,3,4,5,6]\n",
    "print(lista_números)"
   ]
  },
  {
   "cell_type": "code",
   "execution_count": 21,
   "id": "a9238509-8f7e-491e-b4fc-ce321b311562",
   "metadata": {},
   "outputs": [
    {
     "name": "stdout",
     "output_type": "stream",
     "text": [
      "[1, 2, 3, 4, 5, 6, 7]\n"
     ]
    }
   ],
   "source": [
    "lista_números.append(7)\n",
    "print(lista_números)"
   ]
  },
  {
   "cell_type": "code",
   "execution_count": 24,
   "id": "9d345441-0417-4f55-a2d2-0c5cd4fcfa14",
   "metadata": {},
   "outputs": [
    {
     "name": "stdout",
     "output_type": "stream",
     "text": [
      "Removido el número 3 de: [1, 2, 4, 5, 6, 7]\n"
     ]
    }
   ],
   "source": [
    "lista_números.remove(3)\n",
    "print(\"Removido el número 3 de:\", lista_números)"
   ]
  },
  {
   "cell_type": "code",
   "execution_count": null,
   "id": "feab8052-7710-4ae1-ad92-b70758d2ec6d",
   "metadata": {},
   "outputs": [],
   "source": []
  }
 ],
 "metadata": {
  "kernelspec": {
   "display_name": "Python [conda env:base] *",
   "language": "python",
   "name": "conda-base-py"
  },
  "language_info": {
   "codemirror_mode": {
    "name": "ipython",
    "version": 3
   },
   "file_extension": ".py",
   "mimetype": "text/x-python",
   "name": "python",
   "nbconvert_exporter": "python",
   "pygments_lexer": "ipython3",
   "version": "3.13.5"
  }
 },
 "nbformat": 4,
 "nbformat_minor": 5
}
