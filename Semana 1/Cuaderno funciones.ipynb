{
 "cells": [
  {
   "cell_type": "markdown",
   "id": "b55421ee-082a-48b1-95db-4f69be468cc5",
   "metadata": {},
   "source": [
    "## Funciones\n",
    "\n",
    "Las funciones son fragmentos de código que agrupan un conjunto de instrucciones y devuelven un valor. Estas nos ayudan para separar el código en segmentos que nos facilitan encontrar errores y también nos permiten reciclar código,\n",
    "\n",
    "\n"
   ]
  },
  {
   "cell_type": "markdown",
   "id": "32e27f18-1437-4b8f-931a-e710acc29213",
   "metadata": {},
   "source": [
    "~~~\n",
    "def nombre_función(param1, param2):\n",
    " bloque de código\n",
    " return valor_a_regresar"
   ]
  },
  {
   "cell_type": "code",
   "execution_count": 1,
   "id": "a6e599db-1feb-4769-a53b-7e5dd99a97e8",
   "metadata": {},
   "outputs": [],
   "source": [
    "def suma(a, b):\n",
    "    return a+b"
   ]
  },
  {
   "cell_type": "code",
   "execution_count": 2,
   "id": "d6176075-2161-4dae-8313-81abaaa7b211",
   "metadata": {},
   "outputs": [
    {
     "name": "stdout",
     "output_type": "stream",
     "text": [
      "10\n"
     ]
    }
   ],
   "source": [
    "print(suma(2,8))"
   ]
  },
  {
   "cell_type": "code",
   "execution_count": 3,
   "id": "38b7c088-bbed-48c8-bef5-ac830908e103",
   "metadata": {},
   "outputs": [],
   "source": [
    "def aplicar_impuestos(subtotal,impuesto):\n",
    "    return subtotal+subtotal*impuesto"
   ]
  },
  {
   "cell_type": "code",
   "execution_count": 5,
   "id": "9a580de5-d626-4bf2-98f4-61e9459bad55",
   "metadata": {},
   "outputs": [
    {
     "data": {
      "text/plain": [
       "115.0"
      ]
     },
     "execution_count": 5,
     "metadata": {},
     "output_type": "execute_result"
    }
   ],
   "source": [
    "aplicar_impuestos(100,0.15)"
   ]
  },
  {
   "cell_type": "code",
   "execution_count": 6,
   "id": "06877f84-4ca0-4acb-950e-a4b17c8e4195",
   "metadata": {},
   "outputs": [],
   "source": [
    "def aplicar_impuestos(subtotal, impuesto=0.16):\n",
    "    return subtotal+subtotal*impuesto"
   ]
  },
  {
   "cell_type": "code",
   "execution_count": 7,
   "id": "6f69074d-de3b-497c-a5f9-86af6c86e7a8",
   "metadata": {},
   "outputs": [
    {
     "data": {
      "text/plain": [
       "116.0"
      ]
     },
     "execution_count": 7,
     "metadata": {},
     "output_type": "execute_result"
    }
   ],
   "source": [
    "aplicar_impuestos(100)"
   ]
  },
  {
   "cell_type": "code",
   "execution_count": 8,
   "id": "82c04109-ff2f-47aa-8399-9fd8956aa0e3",
   "metadata": {},
   "outputs": [
    {
     "data": {
      "text/plain": [
       "105.0"
      ]
     },
     "execution_count": 8,
     "metadata": {},
     "output_type": "execute_result"
    }
   ],
   "source": [
    "aplicar_impuestos(100,0.05)"
   ]
  },
  {
   "cell_type": "code",
   "execution_count": 9,
   "id": "0b4f2919-1d4f-4ce3-820a-9b11a78b1aa2",
   "metadata": {},
   "outputs": [
    {
     "data": {
      "text/plain": [
       "105.0"
      ]
     },
     "execution_count": 9,
     "metadata": {},
     "output_type": "execute_result"
    }
   ],
   "source": [
    "aplicar_impuestos(impuesto=0.05, subtotal=100)"
   ]
  },
  {
   "cell_type": "code",
   "execution_count": 10,
   "id": "4a956517-640c-491f-8645-883c6494e292",
   "metadata": {},
   "outputs": [
    {
     "name": "stdout",
     "output_type": "stream",
     "text": [
      "121.8\n"
     ]
    }
   ],
   "source": [
    "subtotal = 100\n",
    "subtotal = aplicar_impuestos(100)\n",
    "total = aplicar_impuestos(subtotal, 0.05)\n",
    "print(total)"
   ]
  },
  {
   "cell_type": "code",
   "execution_count": 15,
   "id": "a1fd1ab4-01fc-4b1f-b12d-4326ce43c717",
   "metadata": {},
   "outputs": [],
   "source": [
    "def perimetro_rect(a,b):\n",
    "    return a*2+b*2\n",
    "\n",
    "def area_rect(a,b):\n",
    "     return a*b\n",
    "\n",
    "def operaciones(a,b):\n",
    "     return area_rect(a,b), perimetro_rect(a,b)"
   ]
  },
  {
   "cell_type": "code",
   "execution_count": 16,
   "id": "859c7e49-9382-4801-8c71-32a1ec91c58f",
   "metadata": {},
   "outputs": [
    {
     "data": {
      "text/plain": [
       "(10, 14)"
      ]
     },
     "execution_count": 16,
     "metadata": {},
     "output_type": "execute_result"
    }
   ],
   "source": [
    "operaciones(2,5)"
   ]
  },
  {
   "cell_type": "code",
   "execution_count": 17,
   "id": "58b54090-b566-464a-a94e-ff98443cb5cf",
   "metadata": {},
   "outputs": [],
   "source": [
    "listofnumbers = [4,6,2,7,4,8,9]"
   ]
  },
  {
   "cell_type": "code",
   "execution_count": 25,
   "id": "73c0fd06-7d88-414a-ad60-574b12646cb6",
   "metadata": {},
   "outputs": [
    {
     "name": "stdout",
     "output_type": "stream",
     "text": [
      "Máximos es: 9\n",
      "el mínimo es: 2\n",
      "la sumatoria es: 40\n",
      "la longitud es: 7\n",
      "El promedio es: 5.714285714285714\n",
      "El promedio simplificado es: 5.714285714285714\n"
     ]
    }
   ],
   "source": [
    "## Imprimir max, min, sum, len de la lista\n",
    "\n",
    "print(\"Máximos es:\", max(listofnumbers))\n",
    "print(\"el mínimo es:\", min(listofnumbers))\n",
    "print(\"la sumatoria es:\", sum(listofnumbers))\n",
    "print(\"la longitud es:\", len(listofnumbers))\n",
    "\n",
    "\n",
    "# Promedio de forma tradicional\n",
    "aux = 0\n",
    "for n in listofnumbers:\n",
    "    aux = aux+n\n",
    "promedio = aux/len(listofnumbers)\n",
    "print(\"El promedio es:\", promedio)\n",
    "\n",
    "# Promedio simplificado\n",
    "print(\"El promedio simplificado es:\", sum(listofnumbers)/len(listofnumbers))"
   ]
  }
 ],
 "metadata": {
  "kernelspec": {
   "display_name": "Python [conda env:base] *",
   "language": "python",
   "name": "conda-base-py"
  },
  "language_info": {
   "codemirror_mode": {
    "name": "ipython",
    "version": 3
   },
   "file_extension": ".py",
   "mimetype": "text/x-python",
   "name": "python",
   "nbconvert_exporter": "python",
   "pygments_lexer": "ipython3",
   "version": "3.13.5"
  }
 },
 "nbformat": 4,
 "nbformat_minor": 5
}
