{
 "cells": [
  {
   "cell_type": "code",
   "execution_count": 1,
   "id": "65039f9c-ea54-4e75-9234-add2fc7defdc",
   "metadata": {},
   "outputs": [],
   "source": [
    "import webbrowser"
   ]
  },
  {
   "cell_type": "markdown",
   "id": "745053dc-c6ce-4f10-ab3a-12071e26c104",
   "metadata": {},
   "source": [
    "## webbrowser\n",
    "\n",
    "El módulo webbrowser proporciona una interfaz de alto nivel para permitir la visualización de documentos web a los usuarios. En la mayoría de los casos, simplemente vasta con llamar la función open () desde el título de este módulo.\n",
    "La única función de esta librería es abrir un navegador web.\n"
   ]
  },
  {
   "cell_type": "code",
   "execution_count": 7,
   "id": "e6533480-5ea8-424b-ae1d-5a2ac594a6ea",
   "metadata": {},
   "outputs": [
    {
     "data": {
      "text/plain": [
       "True"
      ]
     },
     "execution_count": 7,
     "metadata": {},
     "output_type": "execute_result"
    }
   ],
   "source": [
    "webbrowser.open('www.google.com')"
   ]
  }
 ],
 "metadata": {
  "kernelspec": {
   "display_name": "Python [conda env:base] *",
   "language": "python",
   "name": "conda-base-py"
  },
  "language_info": {
   "codemirror_mode": {
    "name": "ipython",
    "version": 3
   },
   "file_extension": ".py",
   "mimetype": "text/x-python",
   "name": "python",
   "nbconvert_exporter": "python",
   "pygments_lexer": "ipython3",
   "version": "3.13.5"
  }
 },
 "nbformat": 4,
 "nbformat_minor": 5
}
